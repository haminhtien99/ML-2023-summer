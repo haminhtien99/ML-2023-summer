{
 "cells": [
  {
   "cell_type": "markdown",
   "metadata": {},
   "source": [
    "Генерация выборки"
   ]
  },
  {
   "cell_type": "code",
   "execution_count": 2,
   "metadata": {},
   "outputs": [],
   "source": [
    "import numpy as np\n",
    "import matplotlib.pyplot as plt"
   ]
  },
  {
   "cell_type": "code",
   "execution_count": 9,
   "metadata": {},
   "outputs": [],
   "source": [
    "np.random.seed(0)\n",
    "l = 100\n",
    "n = 2\n",
    "X1 = np.array([[-1,-1]]) + 0.5*np.random.randn(l, n)\n",
    "X2 = np.array([[1,1]]) + 0.5*np.random.randn(l, n)\n",
    "\n",
    "X = np.vstack([X1, X2])\n",
    "y = np.hstack([[-1]*l, [1]*l])"
   ]
  },
  {
   "cell_type": "code",
   "execution_count": 10,
   "metadata": {},
   "outputs": [
    {
     "data": {
      "image/png": "[encoded data removed]",
      "text/plain": [
       "<Figure size 640x480 with 1 Axes>"
      ]
     },
     "metadata": {},
     "output_type": "display_data"
    }
   ],
   "source": [
    "cols = ['blue', 'red']\n",
    "\n",
    "# построение точек\n",
    "for k in np.unique(y):\n",
    "    if k == -1: col = cols[0]\n",
    "    elif k ==1 : col = cols[1]\n",
    "    plt.plot(X[y==k,0], X[y==k,1], 'o', label='класс {}'.format(k), color=col)\n",
    "\n",
    "plt.legend(loc='best')\n",
    "plt.show()\n"
   ]
  },
  {
   "cell_type": "markdown",
   "metadata": {},
   "source": [
    "SVM"
   ]
  },
  {
   "cell_type": "markdown",
   "metadata": {},
   "source": [
    "Функция потерь\n",
    "$$L_i=\\begin{equation}\n",
    "\\left\\{ \n",
    "  \\begin{aligned}\n",
    "    0 ,  y_i*f(x_i) \\le 1\\\\\n",
    "    1- y_i * f(x_i), y_i*f(x_i) < 1 \\\\\n",
    "  \\end{aligned}\n",
    "  \\right.\n",
    "\\end{equation}\n",
    "$$\n",
    "Add regularization\n",
    "$$ J= \\lambda * {<w>}^2 + \\frac{1}{l} \\sum_{i = 1}^l L_i $$\n",
    "if $y_i * f(x_i) \\ge 1$: $$J_i = \\lambda {<w>}^2 $$ \n",
    "else $$ J_i = \\lambda {<w>}^2  + 1 - y_i(w*x_i -w_0)$$\n",
    "\n",
    "Gradients\n",
    "$$\\frac{dJ_i}{dw} = \\begin{equation}\n",
    "\\left\\{ \n",
    "  \\begin{aligned}\n",
    "    2*\\lambda * w ,   \\\\\n",
    "    2*\\lambda * w - y_i*x_i,   \\\\\n",
    "  \\end{aligned}\n",
    "  \\right.\n",
    "\\end{equation}$$\n",
    "$$\\frac{dJ_i}{dw_0} = \\begin{equation}\n",
    "\\left\\{ \n",
    "  \\begin{aligned}\n",
    "    0 ,   \\\\\n",
    "    y_i,   \\\\\n",
    "  \\end{aligned}\n",
    "  \\right.\n",
    "\\end{equation}$$\n",
    "Update rule\n",
    "$$w = w -\\alpha * dw$$\n",
    "$$w_0= w_0-\\alpha*dw_0$$"
   ]
  },
  {
   "cell_type": "code",
   "execution_count": null,
   "metadata": {},
   "outputs": [],
   "source": [
    "class SVM:\n",
    "    def __init__(self, lr= 1, lambda_param = 0, iterations=1000):\n",
    "        self.lr = lr\n",
    "        self.lamda_param = lambda_param\n",
    "        self.iterations= iterations\n",
    "        self.w= None\n",
    "        self.w0 = 0\n",
    "    def fit(self, X, y):\n",
    "        self.w = np.zeros(len(X))\n",
    "        \n",
    "        for _ in range(self.iterations):\n",
    "            for i, x_i in enumerate(X):\n",
    "                condition = y[i] * (np.dot(x_i, self.w) - self.w0) >=1\n",
    "                if condition:\n",
    "                    self.w -= self.lr * (2* self.lamda_param *self.w)\n",
    "                else:\n",
    "                    self.w -= self.lr * (2* self.lamda_param* self.w - np.dot(x_i, y[i]))\n",
    "                    self.w0 -= self.lr * y[i]\n",
    "    def predict(self, X):\n",
    "        approx = np.dot(X, self.w- self.w0)\n",
    "        return np.sign(approx)\n",
    "    def show_graph():\n",
    "        pass"
   ]
  }
 ],
 "metadata": {
  "kernelspec": {
   "display_name": "Python 3",
   "language": "python",
   "name": "python3"
  },
  "language_info": {
   "codemirror_mode": {
    "name": "ipython",
    "version": 3
   },
   "file_extension": ".py",
   "mimetype": "text/x-python",
   "name": "python",
   "nbconvert_exporter": "python",
   "pygments_lexer": "ipython3",
   "version": "3.10.6"
  },
  "orig_nbformat": 4
 },
 "nbformat": 4,
 "nbformat_minor": 2
}
